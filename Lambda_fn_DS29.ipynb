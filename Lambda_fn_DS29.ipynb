{
 "cells": [
  {
   "cell_type": "code",
   "execution_count": 6,
   "id": "9697864f",
   "metadata": {},
   "outputs": [
    {
     "data": {
      "text/plain": [
       "1"
      ]
     },
     "execution_count": 6,
     "metadata": {},
     "output_type": "execute_result"
    }
   ],
   "source": [
    "#Lambda Function: Its a fn without a name and that's why it is also called as anonymous fn.\n",
    "add = lambda a,b: a-b\n",
    "add(5,4)"
   ]
  },
  {
   "cell_type": "code",
   "execution_count": 8,
   "id": "7e242ff7",
   "metadata": {},
   "outputs": [
    {
     "name": "stdout",
     "output_type": "stream",
     "text": [
      "Given number is odd\n"
     ]
    }
   ],
   "source": [
    "#write a progeam to find the no is even or not\n",
    "def even_odd(num):\n",
    "    if num%2 == 0:\n",
    "        return True\n",
    "    else:\n",
    "        return False\n",
    "results = even_odd(9)\n",
    "if results == True:\n",
    "    print(\"Given number is even\")\n",
    "else:\n",
    "    print(\"Given number is odd\")"
   ]
  },
  {
   "cell_type": "code",
   "execution_count": 18,
   "id": "96b2fc34",
   "metadata": {},
   "outputs": [
    {
     "data": {
      "text/plain": [
       "[60, 70, 80]"
      ]
     },
     "execution_count": 18,
     "metadata": {},
     "output_type": "execute_result"
    }
   ],
   "source": [
    "#filter= it is used to filtering some elements of a list using some conditions. It returns filtered lists.\n",
    "lst = [20,30,40,50,60,70,80]\n",
    "average = filter(lambda number: number>sum(lst)/len(lst),lst)\n",
    "list(average)\n",
    "\n",
    "    "
   ]
  },
  {
   "cell_type": "code",
   "execution_count": 20,
   "id": "831134df",
   "metadata": {},
   "outputs": [
    {
     "data": {
      "text/plain": [
       "[1, 4, 9, 16, 25, 36, 49, 64, 81]"
      ]
     },
     "execution_count": 20,
     "metadata": {},
     "output_type": "execute_result"
    }
   ],
   "source": [
    "#Map - The map fn takes two arguments, a fn and a list. The fn is called with all the items in the list and returns a new list which\n",
    "# contains the elements returned by the list.\n",
    "lst = [1,2,3,4,5,6,7,8,9]\n",
    "square = lambda num: num**2\n",
    "list(map(square, lst))"
   ]
  },
  {
   "cell_type": "code",
   "execution_count": 21,
   "id": "90b515d8",
   "metadata": {},
   "outputs": [
    {
     "data": {
      "text/plain": [
       "[5, 10, 15, 20, 25, 30, 35, 40]"
      ]
     },
     "execution_count": 21,
     "metadata": {},
     "output_type": "execute_result"
    }
   ],
   "source": [
    "# Write a program to get a lst where all the elements of given list are multiplied by 5\n",
    "inputt = [1,2,3,4,5,6,7,8]\n",
    "multiply_5 = lambda num : num*5\n",
    "list(map(multiply_5, inputt))"
   ]
  },
  {
   "cell_type": "code",
   "execution_count": 23,
   "id": "40a07248",
   "metadata": {},
   "outputs": [
    {
     "data": {
      "text/plain": [
       "75"
      ]
     },
     "execution_count": 23,
     "metadata": {},
     "output_type": "execute_result"
    }
   ],
   "source": [
    "#Reduce - it is used to reduce a sequence of elements to a single value by processing the elements according to the fn applied,\n",
    "\n",
    "from functools import reduce\n",
    "lst = [5,10,15,20,25]\n",
    "reduce(lambda a,b:a+b, lst)"
   ]
  },
  {
   "cell_type": "code",
   "execution_count": 25,
   "id": "aca88412",
   "metadata": {},
   "outputs": [
    {
     "data": {
      "text/plain": [
       "120"
      ]
     },
     "execution_count": 25,
     "metadata": {},
     "output_type": "execute_result"
    }
   ],
   "source": [
    "#write a program to get the product of elements of list.\n",
    "lsy =  [1,2,3,4,5]\n",
    "reduce(lambda a, b:a*b, lsy)"
   ]
  },
  {
   "cell_type": "code",
   "execution_count": 29,
   "id": "75c2baa9",
   "metadata": {},
   "outputs": [
    {
     "ename": "TypeError",
     "evalue": "map() must have at least two arguments.",
     "output_type": "error",
     "traceback": [
      "\u001b[1;31m---------------------------------------------------------------------------\u001b[0m",
      "\u001b[1;31mTypeError\u001b[0m                                 Traceback (most recent call last)",
      "Input \u001b[1;32mIn [29]\u001b[0m, in \u001b[0;36m<cell line: 4>\u001b[1;34m()\u001b[0m\n\u001b[0;32m      2\u001b[0m lst \u001b[38;5;241m=\u001b[39m [\u001b[38;5;241m4\u001b[39m,\u001b[38;5;241m7\u001b[39m,\u001b[38;5;241m2\u001b[39m,\u001b[38;5;241m3\u001b[39m,\u001b[38;5;241m5\u001b[39m,\u001b[38;5;241m8\u001b[39m,\u001b[38;5;241m9\u001b[39m]\n\u001b[0;32m      3\u001b[0m power \u001b[38;5;241m=\u001b[39m \u001b[38;5;28;01mlambda\u001b[39;00m a,b:a\u001b[38;5;241m*\u001b[39m\u001b[38;5;241m*\u001b[39mb, lst, \u001b[38;5;28mrange\u001b[39m(\u001b[38;5;28mlen\u001b[39m(lst))\n\u001b[1;32m----> 4\u001b[0m \u001b[38;5;28mlist\u001b[39m(\u001b[38;5;28;43mmap\u001b[39;49m\u001b[43m(\u001b[49m\u001b[43mpower\u001b[49m\u001b[43m)\u001b[49m)\n",
      "\u001b[1;31mTypeError\u001b[0m: map() must have at least two arguments."
     ]
    }
   ],
   "source": [
    "#write a program to create the power of said number in bass raised to the corresponding number in the index using python map.\n",
    "lst = [4,7,2,3,5,8,9]\n",
    "power = map(lambda a,b:a**b, lst, range(len(lst))\n",
    "list(map(power))\n"
   ]
  },
  {
   "cell_type": "code",
   "execution_count": null,
   "id": "c872134a",
   "metadata": {},
   "outputs": [],
   "source": []
  }
 ],
 "metadata": {
  "kernelspec": {
   "display_name": "Python 3 (ipykernel)",
   "language": "python",
   "name": "python3"
  },
  "language_info": {
   "codemirror_mode": {
    "name": "ipython",
    "version": 3
   },
   "file_extension": ".py",
   "mimetype": "text/x-python",
   "name": "python",
   "nbconvert_exporter": "python",
   "pygments_lexer": "ipython3",
   "version": "3.10.6"
  }
 },
 "nbformat": 4,
 "nbformat_minor": 5
}
